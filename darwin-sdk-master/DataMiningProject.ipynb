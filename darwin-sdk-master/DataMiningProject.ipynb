{
 "cells": [
  {
   "cell_type": "markdown",
   "metadata": {},
   "source": [
    "# Classification of Films based on Domestic Gross\n",
    "\n",
    "By Vignesh Chilecampali, Georgina Garza, Claire McAfee, Jacob Zillifro\n",
    "\n",
    "This data mining exploration is an attempt to create a model to predict if a film will earn $163 million domestically."
   ]
  },
  {
   "cell_type": "markdown",
   "metadata": {},
   "source": [
    "## Setup\n",
    "\n",
    "Import necessary tools/libraries and login to Darwin SDK."
   ]
  },
  {
   "cell_type": "code",
   "execution_count": 1,
   "metadata": {},
   "outputs": [],
   "source": [
    "# Import necessary libraries\n",
    "import warnings\n",
    "warnings.filterwarnings(\"ignore\", message=\"numpy.dtype size changed\")\n",
    "%matplotlib inline\n",
    "import matplotlib.pyplot as plt\n",
    "import pandas as pd\n",
    "from IPython.display import Image\n",
    "from time import sleep\n",
    "import os\n",
    "import numpy as np\n",
    "import json\n",
    "import csv\n",
    "from sklearn.metrics import classification_report\n",
    "import matplotlib.colors as colo\n",
    "import sklearn as sk\n",
    "import sklearn.cluster as clstr\n",
    "import array\n",
    "\n",
    "from amb_sdk.sdk import DarwinSdk"
   ]
  },
  {
   "cell_type": "code",
   "execution_count": 2,
   "metadata": {},
   "outputs": [],
   "source": [
    "# Login\n",
    "ds = DarwinSdk()\n",
    "ds.set_url('https://amb-demo-api.sparkcognition.com/v1/')\n",
    "status, msg = ds.auth_login_user('claire.mcafee@gmail.com', 'Fhze5hUMn3')\n",
    "\n",
    "if not status:\n",
    "    print(msg)"
   ]
  },
  {
   "cell_type": "markdown",
   "metadata": {},
   "source": [
    "## Bring in Data\n",
    "\n",
    "Convert datasets to csv files, bring them in and put them in dataframes."
   ]
  },
  {
   "cell_type": "code",
   "execution_count": 3,
   "metadata": {},
   "outputs": [],
   "source": [
    "# Code to convert new dataset file from json to csv\n",
    "\n",
    "# path = 'datasets/'\n",
    "# file = open('datasets/film_imdb.json')\n",
    "# film_data = json.load(file)\n",
    "\n",
    "# output = csv.writer(open(\"datasets/film_data.csv\", \"w\"))\n",
    "# output.writerow(film_data[0].keys())\n",
    "# for item in film_data:\n",
    "#     output.writerow(item.values())"
   ]
  },
  {
   "cell_type": "code",
   "execution_count": 4,
   "metadata": {},
   "outputs": [],
   "source": [
    "# Bring in datasets from various sources\n",
    "path = 'datasets/'\n",
    "\n",
    "dataset1_name = 'MovieBudgetsAndBoxOfficeEarnings.csv'\n",
    "df1 = pd.read_csv(os.path.join(path, dataset1_name))\n",
    "\n",
    "dataset2_name = 'IMDBMovieDatabase.csv'\n",
    "df2 = pd.read_csv(os.path.join(path, dataset2_name))\n",
    "\n",
    "dataset3_name = 'BechdelTest.csv'\n",
    "df3 = pd.read_csv(os.path.join(path, dataset3_name))\n",
    "\n",
    "dataset4_name = 'film_data.csv'\n",
    "df4 = pd.read_csv(os.path.join(path, dataset4_name), error_bad_lines=False, warn_bad_lines=False)"
   ]
  },
  {
   "cell_type": "markdown",
   "metadata": {},
   "source": [
    "## Data Prep\n",
    "\n",
    "Clean data and drop conflicting columns."
   ]
  },
  {
   "cell_type": "code",
   "execution_count": 5,
   "metadata": {},
   "outputs": [],
   "source": [
    "# Method to fix titles to be named uniformly\n",
    "# If the word 'The' or 'A' is the first word of the title, but is currently at the end,\n",
    "# flip it so it is at the beginning\n",
    "def title_fix(title):\n",
    "    if title[-5:] == \", The\":\n",
    "        return \"The \" + title[:-5]\n",
    "    elif title[-3:] == \", A\":\n",
    "        return \"A \" + title[:-3]\n",
    "    return title"
   ]
  },
  {
   "cell_type": "code",
   "execution_count": 6,
   "metadata": {},
   "outputs": [],
   "source": [
    "# Fix titles to be uniform\n",
    "df1['title'] = df1['title'].apply(title_fix)\n",
    "df2['title'] = df2['title'].apply(title_fix)\n",
    "\n",
    "# Two separate datasets contain this column, so delete this instance\n",
    "df2 = df2.drop(['budget'], axis=1)\n",
    "\n",
    "# Only pull in title & bechdel score from third dataset\n",
    "df3 = df3[[\"title\", \"binary\"]].copy()\n",
    "df3.rename(index=str, inplace = True, columns={\"binary\": \"bechdel\"})\n",
    "\n",
    "# Rename 'Title' to 'title' for merging purposes\n",
    "df4.rename(index=str, inplace = True, columns={\"Title\": \"title\"})"
   ]
  },
  {
   "cell_type": "markdown",
   "metadata": {},
   "source": [
    "## Combine Datasets\n",
    "\n",
    "Pull all our sources of data together into initial state of dataframe."
   ]
  },
  {
   "cell_type": "code",
   "execution_count": 7,
   "metadata": {},
   "outputs": [
    {
     "data": {
      "text/html": [
       "<div>\n",
       "<style scoped>\n",
       "    .dataframe tbody tr th:only-of-type {\n",
       "        vertical-align: middle;\n",
       "    }\n",
       "\n",
       "    .dataframe tbody tr th {\n",
       "        vertical-align: top;\n",
       "    }\n",
       "\n",
       "    .dataframe thead th {\n",
       "        text-align: right;\n",
       "    }\n",
       "</style>\n",
       "<table border=\"1\" class=\"dataframe\">\n",
       "  <thead>\n",
       "    <tr style=\"text-align: right;\">\n",
       "      <th></th>\n",
       "      <th>title</th>\n",
       "      <th>Month</th>\n",
       "      <th>Day</th>\n",
       "      <th>year</th>\n",
       "      <th>Budget($M)</th>\n",
       "      <th>Domestic Gross($M)</th>\n",
       "      <th>Worldwide Gross($M)</th>\n",
       "      <th>var1</th>\n",
       "      <th>length</th>\n",
       "      <th>rating</th>\n",
       "      <th>...</th>\n",
       "      <th>Language</th>\n",
       "      <th>Country</th>\n",
       "      <th>Awards</th>\n",
       "      <th>Poster</th>\n",
       "      <th>Metascore</th>\n",
       "      <th>imdbRating</th>\n",
       "      <th>imdbVotes</th>\n",
       "      <th>imdbID</th>\n",
       "      <th>Type</th>\n",
       "      <th>Response</th>\n",
       "    </tr>\n",
       "  </thead>\n",
       "  <tbody>\n",
       "    <tr>\n",
       "      <th>0</th>\n",
       "      <td>Titanic</td>\n",
       "      <td>Dec</td>\n",
       "      <td>19</td>\n",
       "      <td>1997</td>\n",
       "      <td>200.0</td>\n",
       "      <td>659.363944</td>\n",
       "      <td>2208.208395</td>\n",
       "      <td>52348</td>\n",
       "      <td>194</td>\n",
       "      <td>6.9</td>\n",
       "      <td>...</td>\n",
       "      <td>English</td>\n",
       "      <td>USA</td>\n",
       "      <td>Won 11 Oscars. Another 110 wins &amp; 73 nominations.</td>\n",
       "      <td>https://images-na.ssl-images-amazon.com/images...</td>\n",
       "      <td>74.0</td>\n",
       "      <td>7.7</td>\n",
       "      <td>806,925</td>\n",
       "      <td>tt0120338</td>\n",
       "      <td>movie</td>\n",
       "      <td>True</td>\n",
       "    </tr>\n",
       "    <tr>\n",
       "      <th>1</th>\n",
       "      <td>Titanic</td>\n",
       "      <td>Dec</td>\n",
       "      <td>19</td>\n",
       "      <td>1997</td>\n",
       "      <td>200.0</td>\n",
       "      <td>659.363944</td>\n",
       "      <td>2208.208395</td>\n",
       "      <td>52348</td>\n",
       "      <td>194</td>\n",
       "      <td>6.9</td>\n",
       "      <td>...</td>\n",
       "      <td>English</td>\n",
       "      <td>USA</td>\n",
       "      <td>Won 11 Oscars. Another 110 wins &amp; 73 nominations.</td>\n",
       "      <td>https://images-na.ssl-images-amazon.com/images...</td>\n",
       "      <td>74.0</td>\n",
       "      <td>7.7</td>\n",
       "      <td>806,925</td>\n",
       "      <td>tt0120338</td>\n",
       "      <td>movie</td>\n",
       "      <td>True</td>\n",
       "    </tr>\n",
       "    <tr>\n",
       "      <th>2</th>\n",
       "      <td>Titanic</td>\n",
       "      <td>Dec</td>\n",
       "      <td>19</td>\n",
       "      <td>1997</td>\n",
       "      <td>200.0</td>\n",
       "      <td>659.363944</td>\n",
       "      <td>2208.208395</td>\n",
       "      <td>52348</td>\n",
       "      <td>194</td>\n",
       "      <td>6.9</td>\n",
       "      <td>...</td>\n",
       "      <td>English</td>\n",
       "      <td>USA</td>\n",
       "      <td>Won 11 Oscars. Another 110 wins &amp; 73 nominations.</td>\n",
       "      <td>https://images-na.ssl-images-amazon.com/images...</td>\n",
       "      <td>74.0</td>\n",
       "      <td>7.7</td>\n",
       "      <td>806,925</td>\n",
       "      <td>tt0120338</td>\n",
       "      <td>movie</td>\n",
       "      <td>True</td>\n",
       "    </tr>\n",
       "    <tr>\n",
       "      <th>3</th>\n",
       "      <td>Titanic</td>\n",
       "      <td>Dec</td>\n",
       "      <td>19</td>\n",
       "      <td>1997</td>\n",
       "      <td>200.0</td>\n",
       "      <td>659.363944</td>\n",
       "      <td>2208.208395</td>\n",
       "      <td>52348</td>\n",
       "      <td>194</td>\n",
       "      <td>6.9</td>\n",
       "      <td>...</td>\n",
       "      <td>English</td>\n",
       "      <td>USA</td>\n",
       "      <td>Won 11 Oscars. Another 110 wins &amp; 73 nominations.</td>\n",
       "      <td>https://images-na.ssl-images-amazon.com/images...</td>\n",
       "      <td>74.0</td>\n",
       "      <td>7.7</td>\n",
       "      <td>806,925</td>\n",
       "      <td>tt0120338</td>\n",
       "      <td>movie</td>\n",
       "      <td>True</td>\n",
       "    </tr>\n",
       "    <tr>\n",
       "      <th>4</th>\n",
       "      <td>Titanic</td>\n",
       "      <td>Dec</td>\n",
       "      <td>19</td>\n",
       "      <td>1997</td>\n",
       "      <td>200.0</td>\n",
       "      <td>659.363944</td>\n",
       "      <td>2208.208395</td>\n",
       "      <td>52348</td>\n",
       "      <td>194</td>\n",
       "      <td>6.9</td>\n",
       "      <td>...</td>\n",
       "      <td>English</td>\n",
       "      <td>USA</td>\n",
       "      <td>Won 11 Oscars. Another 110 wins &amp; 73 nominations.</td>\n",
       "      <td>https://images-na.ssl-images-amazon.com/images...</td>\n",
       "      <td>74.0</td>\n",
       "      <td>7.7</td>\n",
       "      <td>806,925</td>\n",
       "      <td>tt0120338</td>\n",
       "      <td>movie</td>\n",
       "      <td>True</td>\n",
       "    </tr>\n",
       "  </tbody>\n",
       "</table>\n",
       "<p>5 rows × 49 columns</p>\n",
       "</div>"
      ],
      "text/plain": [
       "     title Month  Day  year  Budget($M)  Domestic Gross($M)  \\\n",
       "0  Titanic   Dec   19  1997       200.0          659.363944   \n",
       "1  Titanic   Dec   19  1997       200.0          659.363944   \n",
       "2  Titanic   Dec   19  1997       200.0          659.363944   \n",
       "3  Titanic   Dec   19  1997       200.0          659.363944   \n",
       "4  Titanic   Dec   19  1997       200.0          659.363944   \n",
       "\n",
       "   Worldwide Gross($M)   var1  length  rating    ...     Language  Country  \\\n",
       "0          2208.208395  52348     194     6.9    ...      English      USA   \n",
       "1          2208.208395  52348     194     6.9    ...      English      USA   \n",
       "2          2208.208395  52348     194     6.9    ...      English      USA   \n",
       "3          2208.208395  52348     194     6.9    ...      English      USA   \n",
       "4          2208.208395  52348     194     6.9    ...      English      USA   \n",
       "\n",
       "                                              Awards  \\\n",
       "0  Won 11 Oscars. Another 110 wins & 73 nominations.   \n",
       "1  Won 11 Oscars. Another 110 wins & 73 nominations.   \n",
       "2  Won 11 Oscars. Another 110 wins & 73 nominations.   \n",
       "3  Won 11 Oscars. Another 110 wins & 73 nominations.   \n",
       "4  Won 11 Oscars. Another 110 wins & 73 nominations.   \n",
       "\n",
       "                                              Poster  Metascore  imdbRating  \\\n",
       "0  https://images-na.ssl-images-amazon.com/images...       74.0         7.7   \n",
       "1  https://images-na.ssl-images-amazon.com/images...       74.0         7.7   \n",
       "2  https://images-na.ssl-images-amazon.com/images...       74.0         7.7   \n",
       "3  https://images-na.ssl-images-amazon.com/images...       74.0         7.7   \n",
       "4  https://images-na.ssl-images-amazon.com/images...       74.0         7.7   \n",
       "\n",
       "   imdbVotes     imdbID   Type  Response  \n",
       "0    806,925  tt0120338  movie      True  \n",
       "1    806,925  tt0120338  movie      True  \n",
       "2    806,925  tt0120338  movie      True  \n",
       "3    806,925  tt0120338  movie      True  \n",
       "4    806,925  tt0120338  movie      True  \n",
       "\n",
       "[5 rows x 49 columns]"
      ]
     },
     "execution_count": 7,
     "metadata": {},
     "output_type": "execute_result"
    }
   ],
   "source": [
    "# Merge datasets\n",
    "df = df1.merge(df2, on=['title', 'year'])\n",
    "df = df.merge(df3, on='title', how='left')\n",
    "df = df.merge(df4, on='title')\n",
    "df.head()"
   ]
  },
  {
   "cell_type": "markdown",
   "metadata": {},
   "source": [
    "## Data Exploration\n",
    "\n",
    "Explore data to search for possible patterns, clusters, and distributions."
   ]
  },
  {
   "cell_type": "code",
   "execution_count": 8,
   "metadata": {},
   "outputs": [
    {
     "name": "stdout",
     "output_type": "stream",
     "text": [
      "These are the films binned into ranges of domestic income:\n",
      "(-0.659, 26.375]      1308\n",
      "(26.375, 52.749]       632\n",
      "(52.749, 79.124]       372\n",
      "(79.124, 105.498]      187\n",
      "(105.498, 131.873]     134\n",
      "(131.873, 158.247]      83\n",
      "(158.247, 184.622]      78\n",
      "(210.996, 237.371]      34\n",
      "(184.622, 210.996]      24\n",
      "(237.371, 263.746]      21\n",
      "(290.12, 316.495]        8\n",
      "(316.495, 342.869]       8\n",
      "(263.746, 290.12]        7\n",
      "(395.618, 421.993]       7\n",
      "(369.244, 395.618]       6\n",
      "(632.989, 659.364]       5\n",
      "(421.993, 448.367]       2\n",
      "(606.615, 632.989]       0\n",
      "(342.869, 369.244]       0\n",
      "(448.367, 474.742]       0\n",
      "(474.742, 501.117]       0\n",
      "(501.117, 527.491]       0\n",
      "(527.491, 553.866]       0\n",
      "(553.866, 580.24]        0\n",
      "(580.24, 606.615]        0\n",
      "Name: Domestic Gross($M), dtype: int64\n"
     ]
    },
    {
     "data": {
      "text/plain": [
       "<matplotlib.collections.PathCollection at 0x108a8d400>"
      ]
     },
     "execution_count": 8,
     "metadata": {},
     "output_type": "execute_result"
    },
    {
     "data": {
      "image/png": "[encoded data removed]",
      "text/plain": [
       "<Figure size 1800x360 with 1 Axes>"
      ]
     },
     "metadata": {
      "needs_background": "light"
     },
     "output_type": "display_data"
    }
   ],
   "source": [
    "# Split into bins\n",
    "bins = pd.cut(df['Domestic Gross($M)'], bins=25).value_counts()\n",
    "print(\"These are the films binned into ranges of domestic income:\")\n",
    "print(bins)\n",
    "\n",
    "# Show range of domestic gross\n",
    "# Compared to arbitrary feature\n",
    "plt.figure(figsize=(25,5))\n",
    "plt.scatter(x=df['Domestic Gross($M)'], y=df['Month'])"
   ]
  },
  {
   "cell_type": "code",
   "execution_count": 9,
   "metadata": {},
   "outputs": [
    {
     "data": {
      "image/png": "[encoded data removed]",
      "text/plain": [
       "<Figure size 1008x72 with 1 Axes>"
      ]
     },
     "metadata": {
      "needs_background": "light"
     },
     "output_type": "display_data"
    },
    {
     "data": {
      "text/plain": [
       "array([0], dtype=int32)"
      ]
     },
     "execution_count": 9,
     "metadata": {},
     "output_type": "execute_result"
    }
   ],
   "source": [
    "# Look for natural bisecting clusters within data\n",
    "df['arbitrary'] = 1\n",
    "nd = df[['arbitrary', 'Domestic Gross($M)']].copy()\n",
    "km = sk.cluster.KMeans(n_clusters=2)\n",
    "km.fit(nd)\n",
    "plt.figure(figsize=(14,1))\n",
    "plt.scatter(nd['Domestic Gross($M)'], nd['arbitrary'], c=km.labels_, cmap=colo.ListedColormap(['green', 'red']))\n",
    "plt.show()\n",
    "# ******************************LETS SHOW THIS SOMEHOW???**************************\n",
    "# ******************************LETS SHOW THIS SOMEHOW???**************************\n",
    "# ******************************LETS SHOW THIS SOMEHOW???**************************\n",
    "# ******************************LETS SHOW THIS SOMEHOW???**************************\n",
    "# ******************************LETS SHOW THIS SOMEHOW???**************************\n",
    "# ******************************LETS SHOW THIS SOMEHOW???**************************\n",
    "# This is where we find 163 to be the ideal value for our threshold for classification purposes\n",
    "km.predict([[1,163]])\n",
    "\n",
    "# Drop feature created for exploration\n",
    "df.drop('arbitrary', axis=1)\n",
    "\n",
    "# Why is this here? What does it do?******************************************************************************\n",
    "df.dropna()\n",
    "km.predict([[1,80]])"
   ]
  },
  {
   "cell_type": "code",
   "execution_count": 10,
   "metadata": {},
   "outputs": [
    {
     "data": {
      "image/png": "[encoded data removed]",
      "text/plain": [
       "<Figure size 1008x1008 with 1 Axes>"
      ]
     },
     "metadata": {
      "needs_background": "light"
     },
     "output_type": "display_data"
    }
   ],
   "source": [
    "# Set threshold based on data exploration\n",
    "df['label'] = df['Domestic Gross($M)'].apply(lambda x: 1 if x >= 100 else 0)\n",
    "\n",
    "# Show spread of domestic gross compared to budget and arbitrary feature\n",
    "plt.figure(figsize=(14,14))\n",
    "plt.scatter(x=df['Budget($M)'], y=df['Action'], c=df['label'], cmap=colo.ListedColormap(['red', 'green']))\n",
    "plt.show()\n",
    "\n",
    "# We discover that movies with larger budgets tend to make more domestic gross"
   ]
  },
  {
   "cell_type": "code",
   "execution_count": 11,
   "metadata": {},
   "outputs": [],
   "source": [
    "# Attempts to drop non-English films\n",
    "\n",
    "# df['language'].value_counts()\n",
    "\n",
    "# imdb_films = imdb_films[imdb_films.Language != 'English']\n",
    "\n",
    "# indices = df[df.Language == 'English'].index\n",
    "# df4.drop(indices, inplace=True)\n",
    "\n",
    "# df = df[df.Language != 'English']\n",
    "# print(imdb_films)"
   ]
  },
  {
   "cell_type": "markdown",
   "metadata": {},
   "source": [
    "## Feature Engineering\n",
    "\n",
    "Create new features based on pre-existing ones and drop irrelavant features."
   ]
  },
  {
   "cell_type": "code",
   "execution_count": 12,
   "metadata": {},
   "outputs": [],
   "source": [
    "# Drop unnecessary columns\n",
    "drop_list = ['Day','var1', 'r1', 'r2', 'r3', 'r4', 'r5', 'r6', 'r7', 'r8', 'r9', 'r10', \n",
    "             'Plot', 'Type', 'Poster', 'Response', 'Year', 'Rated', 'Released', 'Runtime', \n",
    "             'Language', 'Country', 'Awards', 'imdbRating', 'imdbVotes', 'imdbID', 'arbitrary']\n",
    "\n",
    "df = df.drop(drop_list, axis=1)\n",
    "df.drop_duplicates(inplace=True)"
   ]
  },
  {
   "cell_type": "code",
   "execution_count": 13,
   "metadata": {},
   "outputs": [],
   "source": [
    "# Rename columns to be uniform\n",
    "rename_dict = {\"Month\": \"month\", \"Budget($M)\": \"budget\", \"Action\": \"action\", \"Animation\": \"animation\", \n",
    "               \"Comedy\": \"comedy\", \"Drama\": \"drama\", \"Documentary\": \"documentary\", \"Romance\": \"romance\", \n",
    "               \"Short\": \"short\", \"Genre\": \"genre\", \"Director\": \"director\", \"Writer\": \"writer\", \"Actors\":\"actors\",\n",
    "              \"Metascore\": \"metascore\"}\n",
    "\n",
    "df.rename(index=str, inplace = True, columns=rename_dict)"
   ]
  },
  {
   "cell_type": "markdown",
   "metadata": {},
   "source": [
    "Total incomes for actors, directors, and writers in order to have new numerical features."
   ]
  },
  {
   "cell_type": "code",
   "execution_count": 14,
   "metadata": {},
   "outputs": [],
   "source": [
    "# Dictionary to hold a cache of each actor's total income\n",
    "actorsIncome = {}\n",
    "\n",
    "# Go through each film in dataset to total each actor's income\n",
    "for index, row in df.iterrows():\n",
    "    currActors = row['actors']\n",
    "    \n",
    "    # Type check to ensure not nan value\n",
    "    if type(currActors) is str:\n",
    "        # Split actors into list\n",
    "        actorsList = currActors.split(\", \")\n",
    "        income = row['Domestic Gross($M)']\n",
    "        # If already in cache, update, otherwise intialize\n",
    "        for actor in actorsList:\n",
    "            if actor in actorsIncome:\n",
    "                actorsIncome[actor] += income\n",
    "            else:\n",
    "                actorsIncome[actor] = income\n",
    "\n",
    "# For a film, get the total income of all the actors\n",
    "# Paramaters: list of actors, income for specified movie\n",
    "def getActorTotal(actorsList, income):\n",
    "    result = 0\n",
    "    for actor in actorsList:\n",
    "        currIncome = actorsIncome[actor]\n",
    "        # Remove the income from this specific movie\n",
    "        result += currIncome - income\n",
    "    return result  \n",
    "\n",
    "# Return gross of all actors in this film\n",
    "def actorgross(row):\n",
    "    currActors = row['actors']\n",
    "    # Type check to ensure not nan value\n",
    "    if type(currActors) is str:\n",
    "        # Split actors into list\n",
    "        actorsList = currActors.split(\", \")\n",
    "        actorTotal = getActorTotal(actorsList, income)\n",
    "        return actorTotal\n",
    "    return 0"
   ]
  },
  {
   "cell_type": "code",
   "execution_count": 15,
   "metadata": {},
   "outputs": [],
   "source": [
    "# Dictionary to hold a cache of each director's total income\n",
    "directorsIncome = {}\n",
    "\n",
    "# Go through each film in dataset to total each director's income\n",
    "for index, row in df.iterrows():\n",
    "    currDirectors = row['director']\n",
    "    \n",
    "    # Type check to ensure not nan value\n",
    "    if type(currDirectors) is str:\n",
    "        # Split directors into list\n",
    "        directorList = currDirectors.split(\", \")\n",
    "        income = row['Domestic Gross($M)']\n",
    "        # If already in cache, update, otherwise intialize\n",
    "        for director in directorList:\n",
    "            if director in directorsIncome:\n",
    "                directorsIncome[director] += income\n",
    "            else:\n",
    "                directorsIncome[director] = income                \n",
    "\n",
    "# For a film, get the total income of all the directors\n",
    "# Paramaters: list of directors, income for specified movie                \n",
    "def getDirectorTotal(directorList, income):\n",
    "    result = 0\n",
    "    for director in directorList:\n",
    "        currIncome = directorsIncome[director]\n",
    "        # Remove the income from this specific movie\n",
    "        result += currIncome - income\n",
    "    return result \n",
    "\n",
    "# Return gross of all directors in this film\n",
    "def directorgross(row):\n",
    "        currDirectors = row['director']\n",
    "        # Type check to ensure not nan value\n",
    "        if type(currDirectors) is str:\n",
    "            # Split directors into list\n",
    "            directorList = currDirectors.split(\", \")\n",
    "            directorTotal = getDirectorTotal(directorList, income)\n",
    "            return directorTotal\n",
    "        return 0"
   ]
  },
  {
   "cell_type": "code",
   "execution_count": 16,
   "metadata": {},
   "outputs": [],
   "source": [
    "# Dictionary to hold a cache of each writer's total income\n",
    "writersIncome = {}\n",
    "\n",
    "# Go through each film in dataset to total each writer's income\n",
    "for index, row in df.iterrows():\n",
    "    currWriters = row['writer']\n",
    "    \n",
    "    # Type check to ensure not nan value\n",
    "    if type(currWriters) is str:\n",
    "        # Split writers into list\n",
    "        writerList = currWriters.split(\", \")\n",
    "        updatedList = []\n",
    "        # Remove duplicates of writers who had multiple roles\n",
    "        for writer in writerList:\n",
    "            split = writer.split(\" (\")\n",
    "            if split[0] not in updatedList:\n",
    "                updatedList.append(split[0])        \n",
    "        income = row['Domestic Gross($M)']\n",
    "        # If already in cache, update, otherwise intialize\n",
    "        for writer in updatedList:\n",
    "            if writer in writersIncome:\n",
    "                writersIncome[writer] += income\n",
    "            else:\n",
    "                writersIncome[writer] = income  \n",
    "\n",
    "# For a film, get the total income of all the writers\n",
    "# Paramaters: list of writers, income for specified movie                  \n",
    "def getWriterTotal(writerList, income):\n",
    "    result = 0\n",
    "    updatedList = []\n",
    "    # Remove duplicates of writers who had multiple roles\n",
    "    for writer in writerList:\n",
    "        split = writer.split(\" (\")\n",
    "        if split[0] not in updatedList:\n",
    "            updatedList.append(split[0])   \n",
    "    for writer in updatedList:\n",
    "        currIncome = writersIncome[writer]\n",
    "        # Remove the income from this specific movie\n",
    "        result += currIncome - income\n",
    "    return result \n",
    "\n",
    "\n",
    "# Return gross of all writers in this film\n",
    "def writergross(row):\n",
    "        currWriters = row['writer']\n",
    "        # Type check to ensure not nan value\n",
    "        if type(currWriters) is str:\n",
    "            # Split writers into list\n",
    "            writerList = currWriters.split(\", \")\n",
    "            writerTotal = getWriterTotal(writerList, income)\n",
    "            return writerTotal\n",
    "        return 0"
   ]
  },
  {
   "cell_type": "code",
   "execution_count": 17,
   "metadata": {},
   "outputs": [],
   "source": [
    "# Create new features based on total gross information for actors, directors, and writers\n",
    "df['actor gross'] = df.apply(lambda row: actorgross(row), axis=1)\n",
    "df['director gross'] = df.apply(lambda row: directorgross(row), axis=1)\n",
    "df['writer gross'] = df.apply(lambda row: writergross(row), axis=1)\n",
    "\n",
    "# Drop old columns that are now irrelevant\n",
    "df = df.drop(['actors', 'director', 'writer', ], axis=1) "
   ]
  },
  {
   "cell_type": "markdown",
   "metadata": {},
   "source": [
    "Create feature for classification label"
   ]
  },
  {
   "cell_type": "code",
   "execution_count": 18,
   "metadata": {},
   "outputs": [
    {
     "data": {
      "text/plain": [
       "title              object\n",
       "month               int64\n",
       "year                int64\n",
       "budget            float64\n",
       "length              int64\n",
       "rating            float64\n",
       "votes               int64\n",
       "action              int64\n",
       "animation           int64\n",
       "comedy              int64\n",
       "drama               int64\n",
       "documentary         int64\n",
       "romance             int64\n",
       "short               int64\n",
       "bechdel           float64\n",
       "metascore         float64\n",
       "label               int64\n",
       "actor gross       float64\n",
       "director gross    float64\n",
       "writer gross      float64\n",
       "mpaa_score        float64\n",
       "dtype: object"
      ]
     },
     "execution_count": 18,
     "metadata": {},
     "output_type": "execute_result"
    }
   ],
   "source": [
    "# Transform the remaining nominal features into numeric features\n",
    "months = {\n",
    "    \"Jan\": 1,\n",
    "    \"Feb\": 2,\n",
    "    \"Mar\": 3,\n",
    "    \"Apr\": 4,\n",
    "    \"May\": 5,\n",
    "    \"Jun\": 6,\n",
    "    \"Jul\": 7,\n",
    "    \"Aug\": 8,\n",
    "    \"Sep\": 9, \n",
    "    \"Oct\": 10,\n",
    "    \"Nov\": 11,\n",
    "    \"Dec\": 12\n",
    "}\n",
    "df['month'] = df['month'].map(months)\n",
    "\n",
    "bechdel = {\n",
    "    \"PASS\": 1,\n",
    "    \"FAIL\": 0\n",
    "}\n",
    "df['bechdel'] = df['bechdel'].map(bechdel)\n",
    "\n",
    "mpaa_score = {\n",
    "    \"PG\": 0,\n",
    "    \"PG-13\": 1,\n",
    "    \"R\": 2,\n",
    "    \"NC-17\": 3\n",
    "}\n",
    "df['mpaa_score'] = df['mpaa'].map(mpaa_score)\n",
    "\n",
    "df = df.drop(['mpaa', 'genre', 'Domestic Gross($M)', 'Worldwide Gross($M)'], axis=1)\n",
    "df.dtypes"
   ]
  },
  {
   "cell_type": "markdown",
   "metadata": {},
   "source": [
    "## Darwin SDK\n",
    "\n",
    "Calls to Darwin SDK to upload dataset, create model, and test predictions."
   ]
  },
  {
   "cell_type": "code",
   "execution_count": 19,
   "metadata": {},
   "outputs": [],
   "source": [
    "# Put dataframe into a csv file\n",
    "resulting_csv = \"result_data.csv\"\n",
    "df.to_csv((path + resulting_csv), index=False)"
   ]
  },
  {
   "cell_type": "code",
   "execution_count": 20,
   "metadata": {},
   "outputs": [],
   "source": [
    "# Upload dataset\n",
    "# Delete old dataset to properly update to new one\n",
    "ds.delete_dataset(resulting_csv)\n",
    "\n",
    "status, dataset = ds.upload_dataset(os.path.join(path, resulting_csv))\n",
    "if not status:\n",
    "    print(dataset)"
   ]
  },
  {
   "cell_type": "code",
   "execution_count": 21,
   "metadata": {},
   "outputs": [
    {
     "name": "stdout",
     "output_type": "stream",
     "text": [
      "{'status': 'Taken', 'starttime': '2019-04-15T22:30:18.015286', 'endtime': None, 'percent_complete': 0, 'job_type': 'CleanDataTiny', 'loss': None, 'generations': None, 'dataset_names': ['result_data.csv'], 'artifact_names': ['cbcc4a75cbbf401692d87c47aa67202a'], 'model_name': None, 'job_error': None}\n",
      "{'status': 'Complete', 'starttime': '2019-04-15T22:30:18.015286', 'endtime': '2019-04-15T22:30:20.288626', 'percent_complete': 100, 'job_type': 'CleanDataTiny', 'loss': None, 'generations': None, 'dataset_names': ['result_data.csv'], 'artifact_names': ['cbcc4a75cbbf401692d87c47aa67202a'], 'model_name': None, 'job_error': ''}\n"
     ]
    }
   ],
   "source": [
    "# Clean dataset\n",
    "target = \"label\"\n",
    "status, job_id = ds.clean_data(resulting_csv, target = target)\n",
    "\n",
    "if status:\n",
    "    ds.wait_for_job(job_id['job_name'])\n",
    "else:\n",
    "    print(job_id)"
   ]
  },
  {
   "cell_type": "code",
   "execution_count": 22,
   "metadata": {},
   "outputs": [
    {
     "name": "stdout",
     "output_type": "stream",
     "text": [
      "{'status': 'Taken', 'starttime': '2019-04-15T22:30:35.123156', 'endtime': None, 'percent_complete': 0, 'job_type': 'TrainModel', 'loss': None, 'generations': 0, 'dataset_names': ['result_data.csv'], 'artifact_names': None, 'model_name': 'label_model', 'job_error': None}\n",
      "{'status': 'Running', 'starttime': '2019-04-15T22:30:35.123156', 'endtime': None, 'percent_complete': 6, 'job_type': 'TrainModel', 'loss': 0.39939919114112854, 'generations': 5, 'dataset_names': ['result_data.csv'], 'artifact_names': None, 'model_name': 'label_model', 'job_error': ''}\n",
      "{'status': 'Running', 'starttime': '2019-04-15T22:30:35.123156', 'endtime': None, 'percent_complete': 6, 'job_type': 'TrainModel', 'loss': 0.39939919114112854, 'generations': 5, 'dataset_names': ['result_data.csv'], 'artifact_names': None, 'model_name': 'label_model', 'job_error': ''}\n",
      "{'status': 'Running', 'starttime': '2019-04-15T22:30:35.123156', 'endtime': None, 'percent_complete': 6, 'job_type': 'TrainModel', 'loss': 0.39939919114112854, 'generations': 5, 'dataset_names': ['result_data.csv'], 'artifact_names': None, 'model_name': 'label_model', 'job_error': ''}\n",
      "{'status': 'Running', 'starttime': '2019-04-15T22:30:35.123156', 'endtime': None, 'percent_complete': 25, 'job_type': 'TrainModel', 'loss': 0.39939919114112854, 'generations': 5, 'dataset_names': ['result_data.csv'], 'artifact_names': None, 'model_name': 'label_model', 'job_error': ''}\n",
      "{'status': 'Running', 'starttime': '2019-04-15T22:30:35.123156', 'endtime': None, 'percent_complete': 25, 'job_type': 'TrainModel', 'loss': 0.39939919114112854, 'generations': 5, 'dataset_names': ['result_data.csv'], 'artifact_names': None, 'model_name': 'label_model', 'job_error': ''}\n",
      "{'status': 'Running', 'starttime': '2019-04-15T22:30:35.123156', 'endtime': None, 'percent_complete': 40, 'job_type': 'TrainModel', 'loss': 0.39939919114112854, 'generations': 5, 'dataset_names': ['result_data.csv'], 'artifact_names': None, 'model_name': 'label_model', 'job_error': ''}\n",
      "{'status': 'Running', 'starttime': '2019-04-15T22:30:35.123156', 'endtime': None, 'percent_complete': 60, 'job_type': 'TrainModel', 'loss': 0.39939919114112854, 'generations': 5, 'dataset_names': ['result_data.csv'], 'artifact_names': None, 'model_name': 'label_model', 'job_error': ''}\n",
      "{'status': 'Running', 'starttime': '2019-04-15T22:30:35.123156', 'endtime': None, 'percent_complete': 60, 'job_type': 'TrainModel', 'loss': 0.39939919114112854, 'generations': 5, 'dataset_names': ['result_data.csv'], 'artifact_names': None, 'model_name': 'label_model', 'job_error': ''}\n",
      "{'status': 'Complete', 'starttime': '2019-04-15T22:30:35.123156', 'endtime': '2019-04-15T22:32:36.037621', 'percent_complete': 100, 'job_type': 'TrainModel', 'loss': 0.39939919114112854, 'generations': 5, 'dataset_names': ['result_data.csv'], 'artifact_names': None, 'model_name': 'label_model', 'job_error': ''}\n"
     ]
    }
   ],
   "source": [
    "# Delete old model to properly update to new one\n",
    "ds.delete_model(target+\"_model\")\n",
    "\n",
    "# Create model\n",
    "model = target + \"_model\"\n",
    "status, job_id = ds.create_model(dataset_names = resulting_csv, \\\n",
    "                                 model_name =  model, \\\n",
    "                                 max_train_time = '00:02')\n",
    "if status:\n",
    "    ds.wait_for_job(job_id['job_name'])\n",
    "else:\n",
    "    print(job_id)"
   ]
  },
  {
   "cell_type": "code",
   "execution_count": 23,
   "metadata": {},
   "outputs": [
    {
     "name": "stdout",
     "output_type": "stream",
     "text": [
      "{'status': 'Requested', 'starttime': '2019-04-15T22:32:51.827787', 'endtime': None, 'percent_complete': 0, 'job_type': 'UpdateModel', 'loss': 0.39939919114112854, 'generations': 5, 'dataset_names': ['result_data.csv'], 'artifact_names': None, 'model_name': 'label_model', 'job_error': None}\n",
      "{'status': 'Running', 'starttime': '2019-04-15T22:32:51.827787', 'endtime': None, 'percent_complete': 0, 'job_type': 'UpdateModel', 'loss': 0.39939919114112854, 'generations': 8, 'dataset_names': ['result_data.csv'], 'artifact_names': None, 'model_name': 'label_model', 'job_error': ''}\n",
      "{'status': 'Running', 'starttime': '2019-04-15T22:32:51.827787', 'endtime': None, 'percent_complete': 0, 'job_type': 'UpdateModel', 'loss': 0.39939919114112854, 'generations': 8, 'dataset_names': ['result_data.csv'], 'artifact_names': None, 'model_name': 'label_model', 'job_error': ''}\n",
      "{'status': 'Running', 'starttime': '2019-04-15T22:32:51.827787', 'endtime': None, 'percent_complete': 9, 'job_type': 'UpdateModel', 'loss': 0.39939919114112854, 'generations': 8, 'dataset_names': ['result_data.csv'], 'artifact_names': None, 'model_name': 'label_model', 'job_error': ''}\n",
      "{'status': 'Running', 'starttime': '2019-04-15T22:32:51.827787', 'endtime': None, 'percent_complete': 14, 'job_type': 'UpdateModel', 'loss': 0.39939919114112854, 'generations': 8, 'dataset_names': ['result_data.csv'], 'artifact_names': None, 'model_name': 'label_model', 'job_error': ''}\n",
      "{'status': 'Running', 'starttime': '2019-04-15T22:32:51.827787', 'endtime': None, 'percent_complete': 20, 'job_type': 'UpdateModel', 'loss': 0.39939919114112854, 'generations': 8, 'dataset_names': ['result_data.csv'], 'artifact_names': None, 'model_name': 'label_model', 'job_error': ''}\n",
      "{'status': 'Running', 'starttime': '2019-04-15T22:32:51.827787', 'endtime': None, 'percent_complete': 23, 'job_type': 'UpdateModel', 'loss': 0.39939919114112854, 'generations': 8, 'dataset_names': ['result_data.csv'], 'artifact_names': None, 'model_name': 'label_model', 'job_error': ''}\n",
      "{'status': 'Running', 'starttime': '2019-04-15T22:32:51.827787', 'endtime': None, 'percent_complete': 29, 'job_type': 'UpdateModel', 'loss': 0.39939919114112854, 'generations': 8, 'dataset_names': ['result_data.csv'], 'artifact_names': None, 'model_name': 'label_model', 'job_error': ''}\n",
      "{'status': 'Running', 'starttime': '2019-04-15T22:32:51.827787', 'endtime': None, 'percent_complete': 33, 'job_type': 'UpdateModel', 'loss': 0.39939919114112854, 'generations': 9, 'dataset_names': ['result_data.csv'], 'artifact_names': None, 'model_name': 'label_model', 'job_error': ''}\n",
      "{'status': 'Running', 'starttime': '2019-04-15T22:32:51.827787', 'endtime': None, 'percent_complete': 38, 'job_type': 'UpdateModel', 'loss': 0.39939919114112854, 'generations': 10, 'dataset_names': ['result_data.csv'], 'artifact_names': None, 'model_name': 'label_model', 'job_error': ''}\n",
      "{'status': 'Running', 'starttime': '2019-04-15T22:32:51.827787', 'endtime': None, 'percent_complete': 38, 'job_type': 'UpdateModel', 'loss': 0.39939919114112854, 'generations': 10, 'dataset_names': ['result_data.csv'], 'artifact_names': None, 'model_name': 'label_model', 'job_error': ''}\n",
      "{'status': 'Running', 'starttime': '2019-04-15T22:32:51.827787', 'endtime': None, 'percent_complete': 44, 'job_type': 'UpdateModel', 'loss': 0.39939919114112854, 'generations': 11, 'dataset_names': ['result_data.csv'], 'artifact_names': None, 'model_name': 'label_model', 'job_error': ''}\n",
      "{'status': 'Complete', 'starttime': '2019-04-15T22:32:51.827787', 'endtime': '2019-04-15T22:35:47.972443', 'percent_complete': 100, 'job_type': 'UpdateModel', 'loss': 0.39939919114112854, 'generations': 11, 'dataset_names': ['result_data.csv'], 'artifact_names': None, 'model_name': 'label_model', 'job_error': ''}\n"
     ]
    }
   ],
   "source": [
    "# Train model more\n",
    "status, job_id = ds.resume_training_model(dataset_names = resulting_csv,\n",
    "                                          model_name = model,\n",
    "                                          max_train_time = '00:05')\n",
    "                                          \n",
    "if status:\n",
    "    ds.wait_for_job(job_id['job_name'])\n",
    "else:\n",
    "    print(job_id)"
   ]
  },
  {
   "cell_type": "code",
   "execution_count": 24,
   "metadata": {},
   "outputs": [
    {
     "name": "stdout",
     "output_type": "stream",
     "text": [
      "{'status': 'Running', 'starttime': '2019-04-15T22:35:53.713363', 'endtime': None, 'percent_complete': 0, 'job_type': 'AnalyzeModel', 'loss': 0.39939919114112854, 'generations': 11, 'dataset_names': None, 'artifact_names': ['4e05a665d53b411c95d9aa0be385b125'], 'model_name': 'label_model', 'job_error': ''}\n",
      "{'status': 'Complete', 'starttime': '2019-04-15T22:35:53.713363', 'endtime': '2019-04-15T22:35:55.316451', 'percent_complete': 100, 'job_type': 'AnalyzeModel', 'loss': 0.39939919114112854, 'generations': 11, 'dataset_names': None, 'artifact_names': ['4e05a665d53b411c95d9aa0be385b125'], 'model_name': 'label_model', 'job_error': ''}\n"
     ]
    }
   ],
   "source": [
    "# Retrieve feature importance of built model\n",
    "status, artifact = ds.analyze_model(model)\n",
    "sleep(1)\n",
    "if status:\n",
    "    ds.wait_for_job(artifact['job_name'])\n",
    "else:\n",
    "    print(artifact)\n",
    "status, feature_importance = ds.download_artifact(artifact['artifact_name'])"
   ]
  },
  {
   "cell_type": "code",
   "execution_count": 25,
   "metadata": {},
   "outputs": [
    {
     "data": {
      "text/plain": [
       "votes               0.196503\n",
       "writer gross        0.133325\n",
       "director gross      0.132195\n",
       "actor gross         0.125657\n",
       "budget              0.080195\n",
       "metascore           0.057241\n",
       "rating              0.051213\n",
       "year                0.033275\n",
       "bechdel = 1.0       0.029202\n",
       "length              0.029070\n",
       "mpaa_score = 2.0    0.022746\n",
       "mpaa_score = 1.0    0.013085\n",
       "comedy = 1          0.010444\n",
       "drama = 1           0.010267\n",
       "action = 1          0.009825\n",
       "month = 6           0.008551\n",
       "animation = 1       0.007346\n",
       "month = 7           0.005892\n",
       "month = 8           0.005293\n",
       "month = 5           0.005234\n",
       "month = 12          0.005042\n",
       "romance = 1         0.004869\n",
       "month = 11          0.004512\n",
       "month = 3           0.003389\n",
       "mpaa_score = 3.0    0.003310\n",
       "month = 2           0.003210\n",
       "month = 10          0.003167\n",
       "month = 4           0.003131\n",
       "month = 9           0.002812\n",
       "short               0.000000\n",
       "documentary = 1     0.000000\n",
       "dtype: float64"
      ]
     },
     "execution_count": 25,
     "metadata": {},
     "output_type": "execute_result"
    }
   ],
   "source": [
    "# Show all features and their importance in training the model\n",
    "feature_importance[0:]"
   ]
  },
  {
   "cell_type": "code",
   "execution_count": 26,
   "metadata": {},
   "outputs": [
    {
     "name": "stdout",
     "output_type": "stream",
     "text": [
      "{'status': 'Running', 'starttime': '2019-04-15T22:36:11.366784', 'endtime': None, 'percent_complete': 0, 'job_type': 'RunModel', 'loss': 0.39939919114112854, 'generations': 11, 'dataset_names': ['result_data.csv'], 'artifact_names': ['1fa009d138234756bf0c4d0f283f717d'], 'model_name': 'label_model', 'job_error': ''}\n",
      "{'status': 'Complete', 'starttime': '2019-04-15T22:36:11.366784', 'endtime': '2019-04-15T22:36:12.634246', 'percent_complete': 100, 'job_type': 'RunModel', 'loss': 0.39939919114112854, 'generations': 11, 'dataset_names': ['result_data.csv'], 'artifact_names': ['1fa009d138234756bf0c4d0f283f717d'], 'model_name': 'label_model', 'job_error': ''}\n"
     ]
    },
    {
     "data": {
      "text/plain": [
       "(True, 'Job completed')"
      ]
     },
     "execution_count": 26,
     "metadata": {},
     "output_type": "execute_result"
    }
   ],
   "source": [
    "# Run the model\n",
    "status, artifact = ds.run_model(resulting_csv, model)\n",
    "sleep(1)\n",
    "ds.wait_for_job(artifact['job_name'])"
   ]
  },
  {
   "cell_type": "code",
   "execution_count": 27,
   "metadata": {},
   "outputs": [
    {
     "data": {
      "text/html": [
       "<div>\n",
       "<style scoped>\n",
       "    .dataframe tbody tr th:only-of-type {\n",
       "        vertical-align: middle;\n",
       "    }\n",
       "\n",
       "    .dataframe tbody tr th {\n",
       "        vertical-align: top;\n",
       "    }\n",
       "\n",
       "    .dataframe thead th {\n",
       "        text-align: right;\n",
       "    }\n",
       "</style>\n",
       "<table border=\"1\" class=\"dataframe\">\n",
       "  <thead>\n",
       "    <tr style=\"text-align: right;\">\n",
       "      <th></th>\n",
       "      <th>label</th>\n",
       "      <th>prob_0</th>\n",
       "      <th>prob_1</th>\n",
       "    </tr>\n",
       "  </thead>\n",
       "  <tbody>\n",
       "    <tr>\n",
       "      <th>0</th>\n",
       "      <td>1</td>\n",
       "      <td>0.014704</td>\n",
       "      <td>0.985296</td>\n",
       "    </tr>\n",
       "    <tr>\n",
       "      <th>1</th>\n",
       "      <td>1</td>\n",
       "      <td>0.011102</td>\n",
       "      <td>0.988898</td>\n",
       "    </tr>\n",
       "    <tr>\n",
       "      <th>2</th>\n",
       "      <td>1</td>\n",
       "      <td>0.081658</td>\n",
       "      <td>0.918342</td>\n",
       "    </tr>\n",
       "    <tr>\n",
       "      <th>3</th>\n",
       "      <td>1</td>\n",
       "      <td>0.010867</td>\n",
       "      <td>0.989133</td>\n",
       "    </tr>\n",
       "    <tr>\n",
       "      <th>4</th>\n",
       "      <td>1</td>\n",
       "      <td>0.010085</td>\n",
       "      <td>0.989915</td>\n",
       "    </tr>\n",
       "  </tbody>\n",
       "</table>\n",
       "</div>"
      ],
      "text/plain": [
       "   label    prob_0    prob_1\n",
       "0      1  0.014704  0.985296\n",
       "1      1  0.011102  0.988898\n",
       "2      1  0.081658  0.918342\n",
       "3      1  0.010867  0.989133\n",
       "4      1  0.010085  0.989915"
      ]
     },
     "execution_count": 27,
     "metadata": {},
     "output_type": "execute_result"
    }
   ],
   "source": [
    "# Make predictions for dataset\n",
    "status, prediction = ds.download_artifact(artifact['artifact_name'])\n",
    "prediction.head()"
   ]
  },
  {
   "cell_type": "code",
   "execution_count": 28,
   "metadata": {},
   "outputs": [
    {
     "name": "stdout",
     "output_type": "stream",
     "text": [
      "              precision    recall  f1-score   support\n",
      "\n",
      "           0       0.96      0.98      0.97      1560\n",
      "           1       0.85      0.75      0.80       249\n",
      "\n",
      "   micro avg       0.95      0.95      0.95      1809\n",
      "   macro avg       0.91      0.87      0.88      1809\n",
      "weighted avg       0.95      0.95      0.95      1809\n",
      "\n"
     ]
    },
    {
     "data": {
      "image/png": "[encoded data removed]",
      "text/plain": [
       "<Figure size 432x288 with 1 Axes>"
      ]
     },
     "metadata": {
      "needs_background": "light"
     },
     "output_type": "display_data"
    }
   ],
   "source": [
    "# Show evaluations of predictions\n",
    "unq = prediction[target].unique()[::-1]\n",
    "p = np.zeros((len(prediction),))\n",
    "a = np.zeros((len(prediction),))\n",
    "for i,q in enumerate(unq):\n",
    "    p += i*(prediction[target] == q).values\n",
    "    a += i*(df[target] == q).values\n",
    "#Plot predictions vs actual\n",
    "plt.plot(a)\n",
    "plt.plot(p)\n",
    "plt.legend(['Actual','Predicted'])\n",
    "plt.yticks([i for i in range(len(unq))],[q for q in unq]);\n",
    "print(classification_report(df[target], prediction[target]))"
   ]
  },
  {
   "cell_type": "code",
   "execution_count": 29,
   "metadata": {},
   "outputs": [
    {
     "name": "stdout",
     "output_type": "stream",
     "text": [
      "{'type': 'XGBClassifier', 'parameters': {}}\n"
     ]
    }
   ],
   "source": [
    "# Print model used by Darwin SDK\n",
    "status, model_type = ds.lookup_model_name(model)\n",
    "print(model_type['description']['best_genome'])"
   ]
  }
 ],
 "metadata": {
  "kernelspec": {
   "display_name": "Python 3",
   "language": "python",
   "name": "python3"
  },
  "language_info": {
   "codemirror_mode": {
    "name": "ipython",
    "version": 3
   },
   "file_extension": ".py",
   "mimetype": "text/x-python",
   "name": "python",
   "nbconvert_exporter": "python",
   "pygments_lexer": "ipython3",
   "version": "3.7.1"
  }
 },
 "nbformat": 4,
 "nbformat_minor": 2
}
